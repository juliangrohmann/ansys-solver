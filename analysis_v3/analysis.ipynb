{
 "cells": [
  {
   "cell_type": "code",
   "execution_count": 2,
   "outputs": [],
   "source": [
    "%reload_ext autoreload\n",
    "%autoreload 2\n",
    "\n",
    "import os\n",
    "import sys\n",
    "import pandas as pd\n",
    "import numpy as np\n",
    "\n",
    "PARENT_DIR = r'D:\\projects\\diverters\\src'\n",
    "CURR_DIR = os.path.join(PARENT_DIR, 'analysis_v3')\n",
    "sys.path.append(PARENT_DIR)\n",
    "\n",
    "from analysis_util import stats"
   ],
   "metadata": {
    "collapsed": false,
    "ExecuteTime": {
     "end_time": "2023-07-13T14:44:52.373673100Z",
     "start_time": "2023-07-13T14:44:48.055673Z"
    }
   }
  },
  {
   "cell_type": "code",
   "execution_count": 3,
   "metadata": {
    "collapsed": true,
    "ExecuteTime": {
     "end_time": "2023-07-13T14:44:56.811673700Z",
     "start_time": "2023-07-13T14:44:56.697674700Z"
    }
   },
   "outputs": [],
   "source": [
    "results_1 = pd.read_csv(os.path.join(CURR_DIR, 'results1.frame'), index_col=0)\n",
    "results_2 = pd.read_csv(os.path.join(CURR_DIR, 'results2.frame'), index_col=0)\n",
    "results_3 = pd.read_csv(os.path.join(CURR_DIR, 'results3.frame'), index_col=0)\n",
    "# results_4 = pd.read_csv(os.path.join(CURR_DIR, 'results4.frame'), index_col=0)\n",
    "\n",
    "results = pd.concat([results_1, results_2, results_3])\n",
    "results.to_csv(os.path.join(CURR_DIR, 'results.frame'))"
   ]
  },
  {
   "cell_type": "code",
   "execution_count": 5,
   "outputs": [
    {
     "name": "stdout",
     "output_type": "stream",
     "text": [
      "RMSE Validation: [-74.71458616 -30.07276227 -23.3669817 ]\n",
      "Mean RMSE = -42.71811004516312\n"
     ]
    }
   ],
   "source": [
    "X_train = results[['heat_flux', 'mass_flow_rate', 'elastic_mod_factor', 'tangent_mod_factor', 'yield_strength_factor']]\n",
    "Y_train = results['linearized_stress']\n",
    "\n",
    "gpr_lin_stress, scaler_lin_stress = stats.make_gpr(X_train, Y_train)\n",
    "\n",
    "# stats.plot_gpr(X_train, gpr_lin_stress, scaler_lin_stress, y_label=\"Linearized Stress (MPa)\")\n",
    "stats.score_gpr(X_train, Y_train, gpr_lin_stress, scaler_lin_stress)"
   ],
   "metadata": {
    "collapsed": false,
    "ExecuteTime": {
     "end_time": "2023-07-13T14:45:40.848487500Z",
     "start_time": "2023-07-13T14:45:40.053491800Z"
    }
   }
  },
  {
   "cell_type": "code",
   "execution_count": null,
   "outputs": [],
   "source": [],
   "metadata": {
    "collapsed": false
   }
  }
 ],
 "metadata": {
  "kernelspec": {
   "display_name": "Python 3",
   "language": "python",
   "name": "python3"
  },
  "language_info": {
   "codemirror_mode": {
    "name": "ipython",
    "version": 2
   },
   "file_extension": ".py",
   "mimetype": "text/x-python",
   "name": "python",
   "nbconvert_exporter": "python",
   "pygments_lexer": "ipython2",
   "version": "2.7.6"
  }
 },
 "nbformat": 4,
 "nbformat_minor": 0
}
