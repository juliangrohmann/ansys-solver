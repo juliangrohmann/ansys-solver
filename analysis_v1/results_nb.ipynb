{
 "cells": [
  {
   "cell_type": "code",
   "execution_count": 1,
   "metadata": {
    "collapsed": true,
    "ExecuteTime": {
     "end_time": "2023-06-29T14:43:21.529987300Z",
     "start_time": "2023-06-29T14:43:19.645035900Z"
    }
   },
   "outputs": [
    {
     "ename": "NameError",
     "evalue": "name '__file__' is not defined",
     "output_type": "error",
     "traceback": [
      "\u001B[1;31m---------------------------------------------------------------------------\u001B[0m",
      "\u001B[1;31mNameError\u001B[0m                                 Traceback (most recent call last)",
      "Cell \u001B[1;32mIn[1], line 11\u001B[0m\n\u001B[0;32m      8\u001B[0m \u001B[38;5;28;01mimport\u001B[39;00m \u001B[38;5;21;01mmatplotlib\u001B[39;00m\u001B[38;5;21;01m.\u001B[39;00m\u001B[38;5;21;01mpyplot\u001B[39;00m \u001B[38;5;28;01mas\u001B[39;00m \u001B[38;5;21;01mplt\u001B[39;00m\n\u001B[0;32m      9\u001B[0m \u001B[38;5;28;01mfrom\u001B[39;00m \u001B[38;5;21;01mscipy\u001B[39;00m\u001B[38;5;21;01m.\u001B[39;00m\u001B[38;5;21;01minterpolate\u001B[39;00m \u001B[38;5;28;01mimport\u001B[39;00m LinearNDInterpolator\n\u001B[1;32m---> 11\u001B[0m CURR_DIR \u001B[38;5;241m=\u001B[39m os\u001B[38;5;241m.\u001B[39mpath\u001B[38;5;241m.\u001B[39mdirname(os\u001B[38;5;241m.\u001B[39mpath\u001B[38;5;241m.\u001B[39mabspath(\u001B[38;5;18;43m__file__\u001B[39;49m))\n\u001B[0;32m     12\u001B[0m PARENT_DIR \u001B[38;5;241m=\u001B[39m os\u001B[38;5;241m.\u001B[39mpath\u001B[38;5;241m.\u001B[39mdirname(CURR_DIR)\n\u001B[0;32m     13\u001B[0m sys\u001B[38;5;241m.\u001B[39mpath\u001B[38;5;241m.\u001B[39mappend(PARENT_DIR)\n",
      "\u001B[1;31mNameError\u001B[0m: name '__file__' is not defined"
     ]
    }
   ],
   "source": [
    "%reload_ext autoreload\n",
    "%autoreload 2\n",
    "\n",
    "import os\n",
    "import sys\n",
    "import pandas as pd\n",
    "import numpy as np\n",
    "import matplotlib.pyplot as plt\n",
    "from scipy.interpolate import LinearNDInterpolator\n",
    "\n",
    "PARENT_DIR = r'D:\\projects\\diverters\\src'\n",
    "CURR_DIR = os.path.join(PARENT_DIR, 'analysis_v1')\n",
    "sys.path.append(PARENT_DIR)"
   ]
  },
  {
   "cell_type": "code",
   "execution_count": null,
   "outputs": [],
   "source": [
    "df = pd.read_csv(os.path.join(CURR_DIR, 'lin_interp.frame'))\n",
    "x = df.iloc[:, 0]\n",
    "y = df.iloc[:, 1]\n",
    "z = df.iloc[:, 2]\n",
    "\n",
    "print(x)\n",
    "print(y)\n",
    "print(z)\n",
    "\n",
    "# plt.pcolormesh(X, Y, Z, shading='auto')\n",
    "# plt.plot(x, y, \"ok\", label=\"Solution result\")\n",
    "# plt.legend()\n",
    "# plt.colorbar()\n",
    "# plt.xlabel(\"Heat Flux (W/m^2)\")\n",
    "# plt.ylabel(\"Mass Flow Rate (g/s)\")\n",
    "# plt.show()\n",
    "#\n",
    "# fig = plt.figure()\n",
    "# ax = fig.add_subplot(projection='3d')\n",
    "# ax.set_xlabel(\"Heat Flux (W/m^2)\")\n",
    "# ax.set_ylabel(\"Mass Flow Rate (g/s)\")\n",
    "# ax.set_zlabel(\"Max. Eqv. Stress (MPa)\", labelpad=-2)\n",
    "# ax.scatter(X, Y, Z)\n",
    "# plt.show()"
   ],
   "metadata": {
    "collapsed": false
   }
  }
 ],
 "metadata": {
  "kernelspec": {
   "display_name": "Python 3",
   "language": "python",
   "name": "python3"
  },
  "language_info": {
   "codemirror_mode": {
    "name": "ipython",
    "version": 2
   },
   "file_extension": ".py",
   "mimetype": "text/x-python",
   "name": "python",
   "nbconvert_exporter": "python",
   "pygments_lexer": "ipython2",
   "version": "2.7.6"
  }
 },
 "nbformat": 4,
 "nbformat_minor": 0
}
